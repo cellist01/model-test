{
 "cells": [
  {
   "cell_type": "markdown",
   "id": "033bf4ad-6542-4664-a75e-86bd20ad7770",
   "metadata": {},
   "source": [
    "1. 패키지를 설치합니다."
   ]
  },
  {
   "cell_type": "code",
   "execution_count": null,
   "id": "32454149-7abe-4a24-99d1-d0cc6b7e05e8",
   "metadata": {
    "tags": []
   },
   "outputs": [],
   "source": [
    "!pip install torch torchvision torchaudio accelerate transformers boto3 botocore"
   ]
  },
  {
   "cell_type": "markdown",
   "id": "5c51898a-00e6-4984-a57b-7ee0db53a4fe",
   "metadata": {},
   "source": [
    "2. huggingpace 의 모델을 로딩하고 테스트/저장합니다.."
   ]
  },
  {
   "cell_type": "code",
   "execution_count": null,
   "id": "708942cb-5e5e-4013-b887-1a377f287c44",
   "metadata": {
    "tags": []
   },
   "outputs": [],
   "source": [
    "import torch\n",
    "import boto3\n",
    "from transformers import AutoModelForCausalLM, AutoTokenizer\n",
    "\n",
    "\n",
    "device = \"cuda\"\n",
    "model_path = \"ibm-granite/granite-3.0-2b-instruct\"\n",
    "tokenizer = AutoTokenizer.from_pretrained(model_path)\n",
    "# drop device_map if running on CPU\n",
    "model = AutoModelForCausalLM.from_pretrained(model_path, device_map=device)\n",
    "model.eval()\n",
    "# change input text as desired\n",
    "chat = [\n",
    "    { \"role\": \"user\", \"content\": \"Please list one IBM Research laboratory located in the United States. You should only output its name and location.\" },\n",
    "]\n",
    "chat = tokenizer.apply_chat_template(chat, tokenize=False, add_generation_prompt=True)\n",
    "# tokenize the text\n",
    "input_tokens = tokenizer(chat, return_tensors=\"pt\").to(device)\n",
    "# generate output tokens\n",
    "output = model.generate(**input_tokens, \n",
    "                        max_new_tokens=100)\n",
    "# decode output tokens into text\n",
    "output = tokenizer.batch_decode(output)\n",
    "# print output\n",
    "print(output)\n",
    "\n",
    "# 모델과 토크나이저 저장\n",
    "save_directory = \"./model/1\"\n",
    "model.save_pretrained(save_directory)\n",
    "tokenizer.save_pretrained(save_directory)\n"
   ]
  },
  {
   "cell_type": "markdown",
   "id": "ecfae69a-2bd4-4933-964f-837447376d16",
   "metadata": {},
   "source": [
    "2-1 (option) onnx 모델로 변환합니다."
   ]
  },
  {
   "cell_type": "code",
   "execution_count": null,
   "id": "7770fdd7-d8b5-40fd-b831-85334d8b2c73",
   "metadata": {
    "tags": []
   },
   "outputs": [],
   "source": [
    "import torch\n",
    "import boto3\n",
    "from transformers import AutoModelForCausalLM, AutoTokenizer\n",
    "\n",
    "device = \"cuda\" if torch.cuda.is_available() else \"cpu\"\n",
    "model_path = \"ibm-granite/granite-3.0-2b-instruct\"\n",
    "tokenizer = AutoTokenizer.from_pretrained(model_path)\n",
    "\n",
    "# 모델 및 토크나이저 로드\n",
    "model = AutoModelForCausalLM.from_pretrained(model_path)\n",
    "model.to(device)\n",
    "model.eval()\n",
    "\n",
    "# 예시 입력 데이터 (ONNX로 내보낼 때 사용할 입력 텐서)\n",
    "chat = [\n",
    "    { \"role\": \"user\", \"content\": \"Please list one IBM Research laboratory located in the United States. You should only output its name and location.\" },\n",
    "]\n",
    "chat = tokenizer.apply_chat_template(chat, tokenize=False, add_generation_prompt=True)\n",
    "input_tokens = tokenizer(chat, return_tensors=\"pt\").to(device)\n",
    "\n",
    "# ONNX로 변환\n",
    "onnx_save_path = \"./model/1/model.onnx\"\n",
    "\n",
    "# 모델을 ONNX로 내보내기\n",
    "torch.onnx.export(\n",
    "    model,                                  # PyTorch 모델\n",
    "    args=(input_tokens['input_ids'],),      # 모델 입력 (input_ids를 사용)\n",
    "    f=onnx_save_path,                       # ONNX 파일 경로\n",
    "    input_names=[\"input_ids\"],              # 입력 이름 정의\n",
    "    output_names=[\"output\"],                # 출력 이름 정의\n",
    "    dynamic_axes={                          # 가변적인 입력 및 출력 크기 정의 (배치 크기)\n",
    "        \"input_ids\": {0: \"batch_size\", 1: \"sequence_length\"}, \n",
    "        \"output\": {0: \"batch_size\", 1: \"sequence_length\"}\n",
    "    },\n",
    "    opset_version=14,                       # ONNX opset 버전 14로 수정\n",
    "    do_constant_folding=True                # 상수 폴딩을 활성화하여 최적화\n",
    ")\n",
    "\n",
    "print(f\"Model successfully exported to {onnx_save_path}\")\n",
    "\n",
    "# 토크나이저 저장\n",
    "save_directory = \"./model/1\"\n",
    "tokenizer.save_pretrained(save_directory)\n"
   ]
  },
  {
   "cell_type": "markdown",
   "id": "c3bede61-f0a7-498e-86c4-8d7f0ae8c2d7",
   "metadata": {},
   "source": [
    "3. data connection 으로 연결할 objectstorage 의 bucket 을 확인합니다."
   ]
  },
  {
   "cell_type": "code",
   "execution_count": 4,
   "id": "baeebb54-3afd-425d-af9e-13afb7087d57",
   "metadata": {
    "tags": []
   },
   "outputs": [
    {
     "name": "stdout",
     "output_type": "stream",
     "text": [
      "Requirement already satisfied: pip in /opt/app-root/lib/python3.9/site-packages (24.3.1)\n",
      "Requirement already satisfied: boto3 in /opt/app-root/lib/python3.9/site-packages (1.34.162)\n",
      "Requirement already satisfied: botocore<1.35.0,>=1.34.162 in /opt/app-root/lib/python3.9/site-packages (from boto3) (1.34.162)\n",
      "Requirement already satisfied: jmespath<2.0.0,>=0.7.1 in /opt/app-root/lib/python3.9/site-packages (from boto3) (1.0.1)\n",
      "Requirement already satisfied: s3transfer<0.11.0,>=0.10.0 in /opt/app-root/lib/python3.9/site-packages (from boto3) (0.10.2)\n",
      "Requirement already satisfied: python-dateutil<3.0.0,>=2.1 in /opt/app-root/lib/python3.9/site-packages (from botocore<1.35.0,>=1.34.162->boto3) (2.9.0.post0)\n",
      "Requirement already satisfied: urllib3<1.27,>=1.25.4 in /opt/app-root/lib/python3.9/site-packages (from botocore<1.35.0,>=1.34.162->boto3) (1.26.19)\n",
      "Requirement already satisfied: six>=1.5 in /opt/app-root/lib/python3.9/site-packages (from python-dateutil<3.0.0,>=2.1->botocore<1.35.0,>=1.34.162->boto3) (1.16.0)\n",
      "Name: boto3\n",
      "Version: 1.34.162\n",
      "Summary: The AWS SDK for Python\n",
      "Home-page: https://github.com/boto/boto3\n",
      "Author: Amazon Web Services\n",
      "Author-email: \n",
      "License: Apache License 2.0\n",
      "Location: /opt/app-root/lib/python3.9/site-packages\n",
      "Requires: botocore, jmespath, s3transfer\n",
      "Required-by: \n",
      "odyssey-data\n",
      "odyssey-data\n"
     ]
    }
   ],
   "source": [
    "#Upgrade pip to the latest version\n",
    "!pip3 install --upgrade pip\n",
    "\n",
    "#Install boto3\n",
    "!pip3 install boto3\n",
    "\n",
    "#Import boto3 libraries\n",
    "import os \n",
    "import boto3 \n",
    "from botocore.client import Config\n",
    "from boto3 import session\n",
    "\n",
    "#show Boto3 package version\n",
    "!pip3 show boto3\n",
    "\n",
    "#Create an S3 client\n",
    "\n",
    "#Define credentials\n",
    "key_id = os.environ.get('AWS_ACCESS_KEY_ID') \n",
    "secret_key = os.environ.get('AWS_SECRET_ACCESS_KEY') \n",
    "endpoint = os.environ.get('AWS_S3_ENDPOINT')\n",
    "region = os.environ.get('AWS_DEFAULT_REGION')\n",
    "\n",
    "#Define client session\n",
    "session = boto3.session.Session(aws_access_key_id=key_id, \n",
    "                                aws_secret_access_key=secret_key) \n",
    "\n",
    "#Define client connection\n",
    "s3_client = boto3.client('s3', aws_access_key_id=key_id, \n",
    "                         aws_secret_access_key=secret_key,\n",
    "                         aws_session_token=None,\n",
    "                         config=boto3.session.Config(signature_version='s3v4'),\n",
    "                         endpoint_url=endpoint,\n",
    "                         region_name=region) \n",
    "\n",
    "#List available buckets\n",
    "s3_client.list_buckets() \n",
    "\n",
    "#Print names of available buckets\n",
    "for bucket in s3_client.list_buckets()['Buckets']: \n",
    "    print(bucket['Name'])\n",
    "\n",
    "#List buckets - verify new bucket exists\n",
    "for bucket in s3_client.list_buckets()['Buckets']: \n",
    "    print(bucket['Name'])"
   ]
  },
  {
   "cell_type": "markdown",
   "id": "6cda9018-3725-4c7e-904b-f43ca234b156",
   "metadata": {},
   "source": [
    "4. Bucket 에 업로드하고 파일을 확인합니다."
   ]
  },
  {
   "cell_type": "code",
   "execution_count": 5,
   "id": "e24247cc-c73b-4b86-98ab-a1b36aa4fb35",
   "metadata": {
    "tags": []
   },
   "outputs": [
    {
     "name": "stdout",
     "output_type": "stream",
     "text": [
      "odyssey-data\n",
      "odyssey-data\n",
      "model/1/README.md\n",
      "model/1/added_tokens.json\n",
      "model/1/config.json\n",
      "model/1/merges.txt\n",
      "model/1/model-00001-of-00002.safetensors\n",
      "model/1/model-00002-of-00002.safetensors\n",
      "model/1/model.safetensors.index.json\n",
      "model/1/special_tokens_map.json\n",
      "model/1/tokenizer_config.json\n",
      "model/1/vocab.json\n"
     ]
    }
   ],
   "source": [
    "import os\n",
    "import boto3\n",
    "from botocore.client import Config\n",
    "\n",
    "# Define credentials\n",
    "key_id = os.environ.get('AWS_ACCESS_KEY_ID') \n",
    "secret_key = os.environ.get('AWS_SECRET_ACCESS_KEY') \n",
    "endpoint = os.environ.get('AWS_S3_ENDPOINT')\n",
    "region = os.environ.get('AWS_DEFAULT_REGION')\n",
    "bucket_name = os.environ.get('AWS_S3_BUCKET')\n",
    "\n",
    "# Define client connection\n",
    "s3_client = boto3.client('s3', \n",
    "                         aws_access_key_id=key_id, \n",
    "                         aws_secret_access_key=secret_key,\n",
    "                         config=Config(signature_version='s3v4'),\n",
    "                         endpoint_url=endpoint,\n",
    "                         region_name=region) \n",
    "\n",
    "# List available buckets\n",
    "try:\n",
    "    buckets = s3_client.list_buckets()\n",
    "    # Print names of available buckets\n",
    "    for bucket in buckets['Buckets']: \n",
    "        print(bucket['Name'])\n",
    "except Exception as e:\n",
    "    print(f\"Error listing buckets: {e}\")\n",
    "    \n",
    "#List files in a bucket\n",
    "s3_client.list_objects_v2(Bucket=bucket_name) \n",
    "\n",
    "#Print only names of files\n",
    "for bucket in s3_client.list_buckets()['Buckets']: \n",
    "    print(bucket['Name'])\n",
    "    \n",
    "directory = 'model/1'\n",
    "s3_directory = 'model/1'\n",
    "for filename in os.listdir(directory):\n",
    "    local_path = os.path.join(directory, filename)\n",
    "\n",
    "    if os.path.isfile(local_path):\n",
    "        s3_path = os.path.join(s3_directory, filename)\n",
    "        s3_client.upload_file(local_path, bucket_name, s3_path)\n",
    "\n",
    " #Print only names of files\n",
    "for key in s3_client.list_objects_v2(Bucket=bucket_name)['Contents']:\n",
    "    print(key['Key']) "
   ]
  },
  {
   "cell_type": "code",
   "execution_count": null,
   "id": "7aa25395-824a-43a7-a39f-35e93b4f447f",
   "metadata": {},
   "outputs": [],
   "source": []
  }
 ],
 "metadata": {
  "kernelspec": {
   "display_name": "Python 3.9",
   "language": "python",
   "name": "python3"
  },
  "language_info": {
   "codemirror_mode": {
    "name": "ipython",
    "version": 3
   },
   "file_extension": ".py",
   "mimetype": "text/x-python",
   "name": "python",
   "nbconvert_exporter": "python",
   "pygments_lexer": "ipython3",
   "version": "3.9.18"
  }
 },
 "nbformat": 4,
 "nbformat_minor": 5
}
