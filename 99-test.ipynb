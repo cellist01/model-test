{
 "cells": [
  {
   "cell_type": "code",
   "execution_count": 1,
   "id": "0e5cae48-f568-4c13-9ebb-7b36394cf24d",
   "metadata": {
    "tags": []
   },
   "outputs": [
    {
     "name": "stdout",
     "output_type": "stream",
     "text": [
      "Requirement already satisfied: requests in /opt/app-root/lib/python3.9/site-packages (2.32.3)\n",
      "Requirement already satisfied: charset-normalizer<4,>=2 in /opt/app-root/lib/python3.9/site-packages (from requests) (3.3.2)\n",
      "Requirement already satisfied: idna<4,>=2.5 in /opt/app-root/lib/python3.9/site-packages (from requests) (3.8)\n",
      "Requirement already satisfied: urllib3<3,>=1.21.1 in /opt/app-root/lib/python3.9/site-packages (from requests) (1.26.19)\n",
      "Requirement already satisfied: certifi>=2017.4.17 in /opt/app-root/lib/python3.9/site-packages (from requests) (2024.7.4)\n"
     ]
    }
   ],
   "source": [
    "!pip install requests"
   ]
  },
  {
   "cell_type": "code",
   "execution_count": 9,
   "id": "ed13e2bb-3265-4ebe-97c0-8bd591ff124b",
   "metadata": {
    "tags": []
   },
   "outputs": [
    {
     "name": "stdout",
     "output_type": "stream",
     "text": [
      "요청 실패: 404 {\"error\": \"Model with requested version is not found\"}\n"
     ]
    },
    {
     "name": "stderr",
     "output_type": "stream",
     "text": [
      "/opt/app-root/lib64/python3.9/site-packages/urllib3/connectionpool.py:1063: InsecureRequestWarning: Unverified HTTPS request is being made to host 'model.odyssey-ai.svc.cluster.local'. Adding certificate verification is strongly advised. See: https://urllib3.readthedocs.io/en/1.26.x/advanced-usage.html#ssl-warnings\n",
      "  warnings.warn(\n"
     ]
    }
   ],
   "source": [
    "import requests\n",
    "import json\n",
    "import numpy as np\n",
    "\n",
    "# 엔드포인트 URL (v2 형식)\n",
    "endpoint_url = \"https://model.odyssey-ai.svc.cluster.local/v2/models/model/infer\"\n",
    "\n",
    "# 테스트용 텍스트 입력\n",
    "input_text = \"안녕하세요, AI 비서입니다. 무엇을 도와드릴까요?\"\n",
    "\n",
    "# 텍스트를 ASCII 코드 값 배열로 변환하여 `ndarray` 형식으로 준비\n",
    "input_array = np.array([ord(char) for char in input_text])\n",
    "\n",
    "# 요청 페이로드 구성 (v2 프로토콜 형식)\n",
    "payload = {\n",
    "    \"inputs\": [\n",
    "        {\n",
    "            \"name\": \"input\",\n",
    "            \"shape\": input_array.shape,\n",
    "            \"datatype\": \"INT32\",\n",
    "            \"data\": input_array.tolist()\n",
    "        }\n",
    "    ]\n",
    "}\n",
    "\n",
    "# 요청 헤더 구성\n",
    "headers = {\n",
    "    \"Content-Type\": \"application/json\"\n",
    "}\n",
    "\n",
    "# 모델 서버로 POST 요청 보내기 (SSL 검증 비활성화)\n",
    "response = requests.post(endpoint_url, headers=headers, data=json.dumps(payload), verify=False)\n",
    "\n",
    "# 응답 결과 확인\n",
    "if response.status_code == 200:\n",
    "    result = response.json()\n",
    "    print(\"모델 응답:\", result)\n",
    "else:\n",
    "    print(\"요청 실패:\", response.status_code, response.text)\n"
   ]
  },
  {
   "cell_type": "code",
   "execution_count": null,
   "id": "17d0a401-c78e-447f-9c0a-64c455a9b6a7",
   "metadata": {},
   "outputs": [],
   "source": []
  }
 ],
 "metadata": {
  "kernelspec": {
   "display_name": "Python 3.9",
   "language": "python",
   "name": "python3"
  },
  "language_info": {
   "codemirror_mode": {
    "name": "ipython",
    "version": 3
   },
   "file_extension": ".py",
   "mimetype": "text/x-python",
   "name": "python",
   "nbconvert_exporter": "python",
   "pygments_lexer": "ipython3",
   "version": "3.9.18"
  }
 },
 "nbformat": 4,
 "nbformat_minor": 5
}
